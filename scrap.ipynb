{
 "cells": [
  {
   "cell_type": "code",
   "execution_count": null,
   "metadata": {},
   "outputs": [],
   "source": [
    "\n",
    "import scrapy\n",
    "from urllib.parse import urljoin\n",
    "\n",
    "class AmazonReviewsSpider(scrapy.Spider):\n",
    "    name = \"amazon_reviews\"\n",
    "\n",
    "    def start_requests(self):\n",
    "        asin_list = ['B09G9FPHY6']\n",
    "        for asin in asin_list:\n",
    "            amazon_reviews_url = f'https://www.amazon.com/product-reviews/{asin}/'\n",
    "            yield scrapy.Request(url=amazon_reviews_url, callback=self.parse_reviews, meta={'asin': asin})\n",
    "\n",
    "    def parse_reviews(self, response):\n",
    "        asin = response.meta['asin']\n",
    "        \n",
    "        ## Parse Product Reviews\n",
    "        review_elements = response.css(\"#cm_cr-review_list div.review\")\n",
    "        for review_element in review_elements:\n",
    "            yield {\n",
    "                    \"asin\": asin,\n",
    "                    \"text\": \"\".join(review_element.css(\"span[data-hook=review-body] ::text\").getall()).strip(),\n",
    "                    \"title\": review_element.css(\"*[data-hook=review-title]>span::text\").get(),\n",
    "                    \"location_and_date\": review_element.css(\"span[data-hook=review-date] ::text\").get(),\n",
    "                    \"verified\": bool(review_element.css(\"span[data-hook=avp-badge] ::text\").get()),\n",
    "                    \"rating\": review_element.css(\"*[data-hook*=review-star-rating] ::text\").re(r\"(\\d+\\.*\\d*) out\")[0],\n",
    "                    }\n"
   ]
  }
 ],
 "metadata": {
  "language_info": {
   "name": "python"
  },
  "orig_nbformat": 4
 },
 "nbformat": 4,
 "nbformat_minor": 2
}
